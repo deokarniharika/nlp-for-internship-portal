{
  "nbformat": 4,
  "nbformat_minor": 0,
  "metadata": {
    "colab": {
      "provenance": [],
      "authorship_tag": "ABX9TyOZALa400HYrX8yR/Dzp0qh",
      "include_colab_link": true
    },
    "kernelspec": {
      "name": "python3",
      "display_name": "Python 3"
    },
    "language_info": {
      "name": "python"
    }
  },
  "cells": [
    {
      "cell_type": "markdown",
      "metadata": {
        "id": "view-in-github",
        "colab_type": "text"
      },
      "source": [
        "<a href=\"https://colab.research.google.com/github/deokarniharika/nlp-for-internship-portal/blob/main/skills.ipynb\" target=\"_parent\"><img src=\"https://colab.research.google.com/assets/colab-badge.svg\" alt=\"Open In Colab\"/></a>"
      ]
    },
    {
      "cell_type": "code",
      "execution_count": null,
      "metadata": {
        "id": "GpJPUxLA7QQX"
      },
      "outputs": [],
      "source": [
        "import spacy\n",
        "from collections import Counter\n",
        "from string import punctuation"
      ]
    },
    {
      "cell_type": "code",
      "source": [
        "import numpy as np # linear algebra\n",
        "import pandas as pd"
      ],
      "metadata": {
        "id": "bEXYnkLsBqt7"
      },
      "execution_count": null,
      "outputs": []
    },
    {
      "cell_type": "code",
      "source": [
        "nlp = spacy.load(\"en_core_web_sm\")\n",
        "def get_hotwords(text):\n",
        "    result = []\n",
        "    pos_tag = ['PROPN', 'ADJ', 'NOUN'] \n",
        "    doc = nlp(text.lower()) \n",
        "    for token in doc:\n",
        "        if(token.text in nlp.Defaults.stop_words or token.text in punctuation):\n",
        "            continue\n",
        "        if(token.pos_ in pos_tag):\n",
        "            result.append(token.text)\n",
        "    return result\n",
        "new_text = \"Python (Django) Developer\"\n",
        "output = set(get_hotwords(new_text))\n",
        "most_common_list = Counter(output).most_common(10)\n",
        "for item in most_common_list:\n",
        "  print(item[0])"
      ],
      "metadata": {
        "colab": {
          "base_uri": "https://localhost:8080/"
        },
        "id": "WzcoA7N87VOI",
        "outputId": "9993b5a9-4999-4ab5-fca6-3e4dd7c2a97c"
      },
      "execution_count": null,
      "outputs": [
        {
          "output_type": "stream",
          "name": "stdout",
          "text": [
            "developer\n",
            "python\n",
            "django\n"
          ]
        }
      ]
    },
    {
      "cell_type": "code",
      "source": [
        "skills = ['HTML','Cryptography' , 'Data structures' ,'Blockchain' ,'Cryptography' ,'Smart contracts' ,'Outlook','Netbeans','python','JAVA','Networking',\n",
        "'DML','Rest Web Services','Windows','MS Power Point.','MS-Access','technical assistance.','SAP','UNIX','Citrix Xen Server','Web Application testing','Cyara',\n",
        "'Linux','MICROSOFT','Nagios','Software Testing','GIT','Eclipse','Sonar Qube''C#.net','Apache','Data Modeling','Database','MySQL','Angular Js','Networking',\n",
        "'AWS','java servlet','Jquery','Selenium','Selenium Webdriver','NoSQL','GWT','CSS','Computer','SQL Server 2010','Web Development','Internet Of Things',\n",
        "'Windows/XP','R Studio','network engineers','Java.','MS OFFICE','Testing','CCNA','ipsec','ANDROID','HSRP','CPP','Application Designer','PowerShell',\n",
        "'MS Word','Ms-Access', \"NetBeans\",'Cloud Computing','OpenShit','Web Designing','Jdeveloper','computer and firesafety','HTML','Windows and Linux',\n",
        "'CISCO','Azure','SAS','Sql','SQL developer','Computer Networks','php','Ansible','Excel','Apache Tomcat','Ansible','Bootstrap','JavaScript','SQL','VB.net',\n",
        "'APPLICATION SOFTWARE','Micro Services','Java Script','Eclipse IDE.','Bash','Putty','SPUFI','Agile','Hacking','bgp','Invoice','AMDP.','ASP','Artificial Intelligence','Application / Software Development','mpls','Program Management','C','MS-Access','Java' ,'Kibana','Maven','Open VZ','ASP.NET','C# .NET','AWS','java script','Hibernate','routing protocols.','cricket','Automation','MySQL','Lithium','Git','GCP','JSON','Maria-DB','Spring','Socket Programming','EJB','Nexus','Html5','PostgreSQL','Ms Word and Power Point','ASP.NET','CSS 3.0','Hyper-','Servlet','PowerPoint','JMS','multicast','Windows Services','IoT','Hardware & Networking','SAPUI5','Machine Learning','TRAINING','SQL','C++','Gephi','Go Lang','AngularJs','Object Oriented Programming','Struts','Application & Web Servers: Sciencelogic (EM7)','Java/C/C++ ','M.S. OFFICE','Billing','active directory','Big data''ASP Technical specifications creation','Confidential Record Keeping','Postman','Goal Oriented & Self Motivated','VB','Content',' SAPUI5 (Primary Skill)','Mongo DB','Market Basket Analysis','Familiar with SQL','Hospitality','Web Authoring Tools HTML 5','Reporting Tools: Vportal','Network Management','Operations','Inversion of Control','MS office','Monthly patching update activity and server owner approval / RFC follow-ups.','Ajax &JQuery','rogramming  :C/C++','problem solving','Functional Testing','Octopus','good at communication','angular','PL/SQL Developer','Windows XP','ospf','Powershell','work devotee','APACHE','Android Studio','exchange','Frontend HTML and .Net','DBMS','excellent in various sports like soccer','Predictive Modelling','KVM','JQuery.','ACCESS','Work on Windows 7','CRM','Selenium (Selenium IDE','RESOURCE PLANNING','PowerPoint Language: Fluent in verbal','STL)','good time management skills','DNS','than 1 year)','Accounts Payable-FI-A/P','java','Mac','IDE: Eclipse','JQuery','PHP','kannada','IT Literacy','SIEM','Highly Dedicated towards work','RDBMS: MySQL','MS OFFICE (MS excel','Ansys','Bid management','Corporate Communications','Wireshark','OpenStack','Front end/GUI Tools programming: Adobe Flex','team player','XML','Good communication - written and oral skills','Tally','TestNG','Team-Player','Database MySQL','Tolerant and Flexible to Different Situations','Data Driven','Building good relationship with people.','Marathi','Source Control Management: SVN','ADDITIONAL INFORMATION','wsus','C#','MATLAB','Oracle System upgrades','Mobile Applications','Page Object model','Microsoft Azure','Selenium','Design Patterns','Typewriting','Sql server 2005','Docker','MYSQL','Network Security','Database','Project management','D3js','Technical Experience: - Automation Testing (REST API','SQL Server','Bamboo','SAP UI5/Fiori','LINUX','people and environments.','SAP HANA','Scrum Ma','7','Service Virtualization)','Computer: Proficient in Windows','WAF','Git','Banking','Relay server.','Sauce Labs','5.0 (E)','Java & J2EE','PL-SQL programming','Programming  VB','NetBeans','Computer Hardware','great at taking','Sql Server','Catia V6','Editing','SQL.','good communication and listening skills.','Mobile Testing','McAfee ESM','PMP trained six sigma yellow belt',' Linux','project manager','putty',' Windows','R studio','Capable and Hardworking','Microsoft Visual Studio 2010','Ubuntu Linux','Ajax.','Html','Splunk','Framework & tools :ADF','Syslog sender','tcl','Basic Computers knowledge','ADOBE PHOTOSHOP','Css','ERP SAP R/3 in 4.7','Python','Database Management System','HttpClient','Efficient Individual and Team Player','Oracle 10g','css','Tools: RADTool','Creo parametric 2.0','Jenkins','Cisco Monitoring Tools: EM7','Android','NETWORKING','10','Sublime','Mockito','Creative Team Leadership','posting.','Operating','WinSCP','Pleasing personality','AJAX','l3vpn','Clustering','Content Migration tools Metalogix and Sharegate','Project Management','Iterative Development','SVN.','Data Structures & Algorithms','Oracle','Jackson-2','4.5','SDET','Frameworks (C#) 4.0','Cucumber','Inside Sales','Jdbc','Oracle PeopleSoft','JavaScript.','EMPLOYEE RESOURCE GROUP','jQuery','Selenium Web Driver)','DNS','.net','ASP.Net with C#','sql','CA7',' C#','Good English','VBA','running','DHCP','Domain Knowledge: E-commerce','knowledge of Active Directory','SOAP Web Services','SOAP UI','Java (Preliminary)','Tomcat','ESXi','Programming','GitLab','Windows 7','Salesforce','Positive Attitude.','Technology: Multimedia','Automation Testing','Strong Analytical and logical skills','Windows 8','Software Development Life Cycle','Database SQL Server and Oracle','Unix','JSP.','Javascript','REST','Junit','Hard working with abstract thinking.','Databases and Tools Informatica Power Center','C','DDL','Spring MVC','Sentimental Analysis','and LAN/WAN.','FlexBuilder','Middleware MVC and WCF','Java','Net beans','Tortoise SVN.','SDLC Model: -Waterfall','Oracle SQL Developer','kabbadi','Core Java','PowerShell','Mysql','MongoDB','SOAP','QMF','MS Visio','CSS','Excellent conceptual and analytical skills','Good communication skills','ABAP/4','JUnit','Flexible and high adaptability to new approaches','Smart Working.','O365','ENTERPRISE','Users / Share folders creation and permission assigning.','MS Excel','ClouStack','Jira','ORM Eclipse Link','swimming','Xpeditor','CSS3','Microsoft Office','MainView','software integration','Apache Nifi','dns','SAP ABAP','R','SQL Server','QTP','Network','Web HTML']\n",
        "\n",
        "# print(len(skills))"
      ],
      "metadata": {
        "id": "spQEgSp17dv4"
      },
      "execution_count": null,
      "outputs": []
    },
    {
      "cell_type": "code",
      "source": [
        "text=\"\"\"Manipulating, cleansing & processing data using Excel, Access and SQL.  \n",
        "PROFESSIONAL  \n",
        " \n",
        "    Responsible for loading, extracting and validation of client data. \n",
        "NVQ in Busin ess    Liaising with end-users and 3rd party suppliers. \n",
        "Improvement  Techniques    Analysing raw data, drawing conclusions & developing recommendations \n",
        "    Writing T-SQL scripts to manipulate data for data loads and extracts. \n",
        "    Developing data analytical databases from complex financial source data. \n",
        "    Performing daily system checks. \n",
        "    Data entry, data auditing, creating data reports & monitoring all data for accuracy. \n",
        "    Designing, developing and implementing new functionality. \"\"\""
      ],
      "metadata": {
        "id": "h33WCAZuBzeY"
      },
      "execution_count": null,
      "outputs": []
    },
    {
      "cell_type": "code",
      "source": [
        "Script=[]\n",
        "Script.append(text)"
      ],
      "metadata": {
        "id": "INS8Gvw-C__Z"
      },
      "execution_count": null,
      "outputs": []
    },
    {
      "cell_type": "code",
      "source": [
        "Script=''.join(Script)\n",
        "CV_Clear=Script.replace(\"\\n\",\"\")\n",
        "CV_Clear"
      ],
      "metadata": {
        "colab": {
          "base_uri": "https://localhost:8080/",
          "height": 88
        },
        "id": "Go8M0Zl8ColE",
        "outputId": "55719bb6-3a6a-4665-fccc-5e417de180a3"
      },
      "execution_count": null,
      "outputs": [
        {
          "output_type": "execute_result",
          "data": {
            "text/plain": [
              "'Manipulating, cleansing & processing data using Excel, Access and SQL.  PROFESSIONAL       Responsible for loading, extracting and validation of client data. NVQ in Busin ess    Liaising with end-users and 3rd party suppliers. Improvement  Techniques    Analysing raw data, drawing conclusions & developing recommendations     Writing T-SQL scripts to manipulate data for data loads and extracts.     Developing data analytical databases from complex financial source data.     Performing daily system checks.     Data entry, data auditing, creating data reports & monitoring all data for accuracy.     Designing, developing and implementing new functionality. '"
            ],
            "application/vnd.google.colaboratory.intrinsic+json": {
              "type": "string"
            }
          },
          "metadata": {},
          "execution_count": 27
        }
      ]
    },
    {
      "cell_type": "code",
      "source": [
        "text2=\"\"\"JOB DESCRIPTION | Data Analyst  \n",
        "Job Title:  Data Analyst   Salary Grade (HR):   \n",
        "Job Code:    FLSA Status (HR):  Non-Exempt \n",
        "Department Name:  Information Technology and Data  Approved By (HR):  \n",
        "Reports to (Title): Chief Operations Officer  Date Approved (HR): \n",
        "Date Prepared: October 11, 2016  Prepared By:  Teresa Mooney \n",
        "  \n",
        "JOB SUMMARY: Under the supervision of the Chief Operations Officer, this vital role supports HOPES \n",
        "strategic business plan, agency data and reporting initiatives. This position has a specific focus on \n",
        "developing and coordinating systems and processes that engage and solicit data management and \n",
        "reporting analytics across the agency.   \n",
        "ESSENTIAL FUNCTIONS: \n",
        "Leadership | Identify, Evaluate & Utilizes Data | Data Project Management | Training & Development of \n",
        "Data Material\"\"\""
      ],
      "metadata": {
        "id": "a6s0I89IDlfj"
      },
      "execution_count": null,
      "outputs": []
    },
    {
      "cell_type": "code",
      "source": [
        "Script_Req=[]\n",
        "Script_Req.append(text2)"
      ],
      "metadata": {
        "id": "CcqssQ7rDiSf"
      },
      "execution_count": null,
      "outputs": []
    },
    {
      "cell_type": "code",
      "source": [
        "Script_Req=''.join(Script_Req)\n",
        "Req_Clear=Script_Req.replace(\"\\n\",\"\")\n",
        "Req_Clear"
      ],
      "metadata": {
        "colab": {
          "base_uri": "https://localhost:8080/",
          "height": 105
        },
        "id": "eq_SxHGGDw9u",
        "outputId": "c9bfe99a-d5db-4586-840e-40b33609f488"
      },
      "execution_count": null,
      "outputs": [
        {
          "output_type": "execute_result",
          "data": {
            "text/plain": [
              "'JOB DESCRIPTION | Data Analyst  Job Title:  Data Analyst   Salary Grade (HR):   Job Code:    FLSA Status (HR):  Non-Exempt Department Name:  Information Technology and Data  Approved By (HR):  Reports to (Title): Chief Operations Officer  Date Approved (HR): Date Prepared: October 11, 2016  Prepared By:  Teresa Mooney   JOB SUMMARY: Under the supervision of the Chief Operations Officer, this vital role supports HOPES strategic business plan, agency data and reporting initiatives. This position has a specific focus on developing and coordinating systems and processes that engage and solicit data management and reporting analytics across the agency.   ESSENTIAL FUNCTIONS: Leadership | Identify, Evaluate & Utilizes Data | Data Project Management | Training & Development of Data Material'"
            ],
            "application/vnd.google.colaboratory.intrinsic+json": {
              "type": "string"
            }
          },
          "metadata": {},
          "execution_count": 33
        }
      ]
    },
    {
      "cell_type": "code",
      "source": [
        "Match_Test=[CV_Clear,Req_Clear]"
      ],
      "metadata": {
        "id": "2OWE4PYbKeux"
      },
      "execution_count": null,
      "outputs": []
    },
    {
      "cell_type": "code",
      "source": [
        "from sklearn.feature_extraction.text import CountVectorizer\n",
        "cv=CountVectorizer()\n",
        "count_matrix=cv.fit_transform(Match_Test)"
      ],
      "metadata": {
        "id": "IqSytP1BD9fN"
      },
      "execution_count": null,
      "outputs": []
    },
    {
      "cell_type": "code",
      "source": [
        "from sklearn.metrics.pairwise import cosine_similarity\n",
        "print('Similarity is :',cosine_similarity(count_matrix))"
      ],
      "metadata": {
        "colab": {
          "base_uri": "https://localhost:8080/"
        },
        "id": "wGsp5lQFD_Gu",
        "outputId": "0ee9b7b4-d925-439d-c749-03ab91a16a23"
      },
      "execution_count": null,
      "outputs": [
        {
          "output_type": "stream",
          "name": "stdout",
          "text": [
            "Similarity is : [[1.         0.52483034]\n",
            " [0.52483034 1.        ]]\n"
          ]
        }
      ]
    },
    {
      "cell_type": "code",
      "source": [
        "coun_vect = CountVectorizer()\n",
        "count_matrix = coun_vect.fit_transform(Match_Test)\n",
        "count_array = count_matrix.toarray()\n",
        "df = pd.DataFrame(data=count_array,columns = coun_vect.get_feature_names())\n",
        "print(df)"
      ],
      "metadata": {
        "colab": {
          "base_uri": "https://localhost:8080/"
        },
        "id": "CTREZwS0GNvr",
        "outputId": "916a501c-841c-4ba1-eb30-fbc0abda00fa"
      },
      "execution_count": null,
      "outputs": [
        {
          "output_type": "stream",
          "name": "stdout",
          "text": [
            "   11  2016  3rd  access  accuracy  across  agency  all  analysing  analyst  \\\n",
            "0   0     0    1       1         1       0       0    1          1        0   \n",
            "1   1     1    0       0         0       1       2    0          0        2   \n",
            "\n",
            "   ...  to  training  under  users  using  utilizes  validation  vital  with  \\\n",
            "0  ...   1         0      0      1      1         0           1      0     1   \n",
            "1  ...   1         1      1      0      0         1           0      1     0   \n",
            "\n",
            "   writing  \n",
            "0        1  \n",
            "1        0  \n",
            "\n",
            "[2 rows x 130 columns]\n"
          ]
        },
        {
          "output_type": "stream",
          "name": "stderr",
          "text": [
            "/usr/local/lib/python3.7/dist-packages/sklearn/utils/deprecation.py:87: FutureWarning: Function get_feature_names is deprecated; get_feature_names is deprecated in 1.0 and will be removed in 1.2. Please use get_feature_names_out instead.\n",
            "  warnings.warn(msg, category=FutureWarning)\n"
          ]
        }
      ]
    },
    {
      "cell_type": "code",
      "source": [
        "MatchPercentage=cosine_similarity(count_matrix)[0][1]*100\n",
        "MatchPercentage=round(MatchPercentage,2)\n",
        "print('Match Percentage is :'+ str(MatchPercentage)+'% to Requirement')"
      ],
      "metadata": {
        "colab": {
          "base_uri": "https://localhost:8080/"
        },
        "id": "2JrYMlVUEA62",
        "outputId": "4e700df3-dcd2-424e-82be-a39486a5a3e9"
      },
      "execution_count": null,
      "outputs": [
        {
          "output_type": "stream",
          "name": "stdout",
          "text": [
            "Match Percentage is :52.48% to Requirement\n"
          ]
        }
      ]
    },
    {
      "cell_type": "code",
      "source": [
        "import pandas as pd\n",
        "import numpy as np\n",
        "import pandas as pd\n",
        "import matplotlib.pyplot as plt\n",
        "csv_file='exam.csv'\n",
        "data = pd.read_csv(csv_file)"
      ],
      "metadata": {
        "id": "j5tV24gLEC-F"
      },
      "execution_count": 4,
      "outputs": []
    },
    {
      "cell_type": "code",
      "source": [
        "Name = data[\"Name\"]\n",
        "x=list(Name)\n",
        "cmid=data[\"Cmid\"]\n",
        "y=list(cmid)\n",
        "\n",
        "plt.scatter(x,y)\n",
        "plt.xlabel('Genre->')\n",
        "plt.ylabel('Total Votes->')\n",
        "plt.title('Data')\n",
        "plt.show()"
      ],
      "metadata": {
        "colab": {
          "base_uri": "https://localhost:8080/",
          "height": 295
        },
        "id": "PY0N5TcBJxE-",
        "outputId": "3cf77e9f-45eb-4988-b6cc-e3fbd22b69e6"
      },
      "execution_count": 5,
      "outputs": [
        {
          "output_type": "display_data",
          "data": {
            "text/plain": [
              "<Figure size 432x288 with 1 Axes>"
            ],
            "image/png": "[encoded data removed]"
          },
          "metadata": {
            "needs_background": "light"
          }
        }
      ]
    },
    {
      "cell_type": "code",
      "source": [
        "plt.bar(Name,cmid, width=0.5,label=\"Company Mid-sem\")"
      ],
      "metadata": {
        "colab": {
          "base_uri": "https://localhost:8080/",
          "height": 282
        },
        "id": "nNzERIvzJ0xV",
        "outputId": "b24f2e7e-6173-4f17-cb4e-789427c569fd"
      },
      "execution_count": 6,
      "outputs": [
        {
          "output_type": "execute_result",
          "data": {
            "text/plain": [
              "<BarContainer object of 100 artists>"
            ]
          },
          "metadata": {},
          "execution_count": 6
        },
        {
          "output_type": "display_data",
          "data": {
            "text/plain": [
              "<Figure size 432x288 with 1 Axes>"
            ],
            "image/png": "[encoded data removed]"
          },
          "metadata": {
            "needs_background": "light"
          }
        }
      ]
    },
    {
      "cell_type": "code",
      "source": [
        "plt.scatter(x,y,alpha=0.5)"
      ],
      "metadata": {
        "colab": {
          "base_uri": "https://localhost:8080/",
          "height": 282
        },
        "id": "BxMrFkCFJ4SS",
        "outputId": "58e6509c-4b61-4f4f-9a8c-aebd5e9eac92"
      },
      "execution_count": 7,
      "outputs": [
        {
          "output_type": "execute_result",
          "data": {
            "text/plain": [
              "<matplotlib.collections.PathCollection at 0x7fce53016f90>"
            ]
          },
          "metadata": {},
          "execution_count": 7
        },
        {
          "output_type": "display_data",
          "data": {
            "text/plain": [
              "<Figure size 432x288 with 1 Axes>"
            ],
            "image/png": "[encoded data removed]"
          },
          "metadata": {
            "needs_background": "light"
          }
        }
      ]
    },
    {
      "cell_type": "code",
      "source": [
        "plt.stackplot(Name, cmid, labels=[\"Name\", \"Company-mid-sem\"], alpha=0.7)"
      ],
      "metadata": {
        "colab": {
          "base_uri": "https://localhost:8080/",
          "height": 282
        },
        "id": "P0SvsLlUJ4rE",
        "outputId": "bea8ddea-8eb8-4fe4-f58b-f56f6ecaf8b8"
      },
      "execution_count": 8,
      "outputs": [
        {
          "output_type": "execute_result",
          "data": {
            "text/plain": [
              "[<matplotlib.collections.PolyCollection at 0x7fce53037cd0>]"
            ]
          },
          "metadata": {},
          "execution_count": 8
        },
        {
          "output_type": "display_data",
          "data": {
            "text/plain": [
              "<Figure size 432x288 with 1 Axes>"
            ],
            "image/png": "[encoded data removed]"
          },
          "metadata": {
            "needs_background": "light"
          }
        }
      ]
    },
    {
      "cell_type": "code",
      "source": [],
      "metadata": {
        "id": "Ntl3oyB_Kl88"
      },
      "execution_count": null,
      "outputs": []
    }
  ]
}